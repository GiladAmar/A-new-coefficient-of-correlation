{
 "cells": [
  {
   "cell_type": "markdown",
   "id": "37088d90-a606-4ed6-a934-86d9dd97928f",
   "metadata": {},
   "source": [
    "# Python implementation of https://arxiv.org/pdf/1909.10140.pdf"
   ]
  },
  {
   "cell_type": "code",
   "execution_count": null,
   "id": "c5f69b59-6d64-4221-9a1d-f44af50713c5",
   "metadata": {},
   "outputs": [],
   "source": [
    "from itertools import product\n",
    "from joblib import Parallel, delayed\n",
    "import sys\n",
    "\n",
    "import numpy as np\n",
    "from scipy.stats import rankdata\n",
    "import pandas as pd"
   ]
  },
  {
   "cell_type": "code",
   "execution_count": null,
   "id": "518a3340-e9de-4ba8-b353-13000a33c087",
   "metadata": {},
   "outputs": [],
   "source": [
    "def XI_coef(\n",
    "    xvec: np.ndarray, yvec: np.ndarray, simple: bool = True, seed: int = 42\n",
    ") -> float:\n",
    "    np.random.seed(seed)\n",
    "\n",
    "    n = len(xvec)\n",
    "\n",
    "    # TODO: Fix this clearly inefficient way of computing the r code line:\n",
    "    # PI <- rank(xvec, ties.method = \"random\"\n",
    "    # This is a shameless stackoverflow copy\n",
    "    pandas_series = pd.Series(xvec)\n",
    "    PI = (\n",
    "        pandas_series.sample(frac=1)\n",
    "        .rank(method=\"first\")\n",
    "        .reindex_like(pandas_series)\n",
    "        .values\n",
    "    )\n",
    "\n",
    "    fr = rankdata(yvec, method=\"max\") / n\n",
    "    gr = rankdata(-yvec, method=\"max\") / n\n",
    "\n",
    "    ord = np.argsort(PI)\n",
    "    fr = fr[ord]\n",
    "    A1 = np.sum(np.abs(fr[0 : n - 1] - fr[1:n])) / (2.0 * n)\n",
    "    CU = np.mean(gr * (1.0 - gr))\n",
    "\n",
    "    xi = 1.0 - A1 / (CU + sys.float_info.epsilon)\n",
    "    if simple:\n",
    "        return xi\n",
    "\n",
    "    return [xi, fr, CU]\n",
    "\n",
    "\n",
    "def XI_coef_matrix(np_array: np.ndarray) -> np.ndarray:\n",
    "    assert len(np_array.shape) == 2\n",
    "    _, w = np_array.shape\n",
    "\n",
    "    return np.array(\n",
    "        [\n",
    "            XI_coef(np_array[:, i], np_array[:, j]) if i != j else 1.0\n",
    "            for i, j in product(range(w), repeat=2)\n",
    "        ]\n",
    "    ).reshape((w, w))"
   ]
  },
  {
   "cell_type": "code",
   "execution_count": null,
   "id": "6d49104a-4f66-4f64-b968-e4f0fbc414f6",
   "metadata": {},
   "outputs": [],
   "source": [
    "def XI_coef_matrix_parallel(np_array: np.ndarray) -> np.ndarray:\n",
    "    assert len(np_array.shape) == 2\n",
    "    _, w = np_array.shape\n",
    "\n",
    "    def process_index(i, j):\n",
    "        if i == j:\n",
    "            return 1.0\n",
    "        return XI_coef(np_array[:, i], np_array[:, j])\n",
    "\n",
    "    results = Parallel(n_jobs=-1)(\n",
    "        delayed(process_index)(i, j) for i, j in product(range(w), repeat=2)\n",
    "    )\n",
    "    return np.array(results).reshape((w, w))"
   ]
  },
  {
   "cell_type": "code",
   "execution_count": null,
   "id": "356a99a5-3584-4dcc-99c3-c0c36528e3cf",
   "metadata": {},
   "outputs": [],
   "source": [
    "# A reasonably sized dataframe for Data Science cases\n",
    "np_array = np.random.randint(0, 100, size=(int(1e4), 70))"
   ]
  },
  {
   "cell_type": "code",
   "execution_count": null,
   "id": "fc18937c-4348-45b3-b938-f1721a0f74d1",
   "metadata": {},
   "outputs": [],
   "source": [
    "%time _ = XI_coef_matrix(np_array)"
   ]
  },
  {
   "cell_type": "code",
   "execution_count": null,
   "id": "b8a7fa46-6fbd-44f1-a486-74ff0e3f2d1f",
   "metadata": {},
   "outputs": [],
   "source": [
    "%time _ = XI_coef_matrix_parallel(np_array)"
   ]
  },
  {
   "cell_type": "code",
   "execution_count": null,
   "id": "bc54dcf7-e138-4def-8345-df66e38554ca",
   "metadata": {},
   "outputs": [],
   "source": [
    "# TEST: a straight line with noise\n",
    "size = int(1e6)\n",
    "list_1 = np.array(list(range(0, size)))\n",
    "list_2 = np.array(list(range(size, 0, -1))) + np.random.random_sample(len(list_1)) * 100\n",
    "\n",
    "print(\"x -> y\", XI_coef(list_1, list_2))\n",
    "print(\"y -> x\", XI_coef(list_2, list_1))\n",
    "print(\"std coeff matrix\", np.corrcoef(list_1, list_2))"
   ]
  },
  {
   "cell_type": "code",
   "execution_count": null,
   "id": "0718fc17-3ab1-478a-bb41-971a2b96ede9",
   "metadata": {},
   "outputs": [],
   "source": [
    "# Odd cases:\n",
    "## All Zeros\n",
    "np_array = np.zeros(shape=(10, 10))\n",
    "print(\"XI coeff matrix\", XI_coef_matrix(np_array))\n",
    "\n",
    "## Purely random\n",
    "np_array = np.random.randint(0, 100, (1, 10))\n",
    "print(\"XI coeff matrix\", XI_coef_matrix(np_array))\n",
    "\n",
    "## Negatively correlated\n",
    "np_array = np.random.randint(0, 100, (1000, 2))\n",
    "np_array[:, 1] = -np_array[:, 0]\n",
    "print(\"XI coeff matrix\", XI_coef_matrix(np_array))"
   ]
  },
  {
   "cell_type": "code",
   "execution_count": null,
   "id": "58ee7f2a-9593-4b09-8d62-63cb1fc87259",
   "metadata": {},
   "outputs": [],
   "source": [
    "np.arange(0, 1e6)"
   ]
  },
  {
   "cell_type": "code",
   "execution_count": null,
   "id": "7577060c-8514-4eb0-b76a-e5d805ca3b6d",
   "metadata": {},
   "outputs": [],
   "source": [
    "# TEST: a straight line with itself\n",
    "size = 1e6\n",
    "\n",
    "print(\"x -> y\", XI_coef(np.arange(0, size), np.arange(0, size)))\n",
    "print(\"std coeff matrix\", np.corrcoef(list_1, list_1))"
   ]
  },
  {
   "cell_type": "code",
   "execution_count": null,
   "id": "4ddf31cf-3594-441d-be18-fc90f064e38c",
   "metadata": {},
   "outputs": [],
   "source": [
    "# TEST: a sin(x) function\n",
    "# The std correlation cooeff is close to 0, but this improved correlation function\n",
    "# should show that there is a relationship from x -> y, but a bad one from y -> x\n",
    "# That is to say, if you know x, you can easily determine y, but not the other way around.\n",
    "list_1 = np.arange(0, 1000, np.pi / 8)\n",
    "list_2 = np.sin(list_1) + np.random.random_sample(len(list_1)) / 10\n",
    "\n",
    "print(\"x -> y\", XI_coef(list_1, list_2))\n",
    "print(\"y -> x\", XI_coef(list_2, list_1))\n",
    "print(\"std coeff matrix\", np.corrcoef(list_1, list_2))"
   ]
  }
 ],
 "metadata": {
  "kernelspec": {
   "display_name": "Python 3 (ipykernel)",
   "language": "python",
   "name": "python3"
  },
  "language_info": {
   "codemirror_mode": {
    "name": "ipython",
    "version": 3
   },
   "file_extension": ".py",
   "mimetype": "text/x-python",
   "name": "python",
   "nbconvert_exporter": "python",
   "pygments_lexer": "ipython3"
  },
  "widgets": {
   "application/vnd.jupyter.widget-state+json": {
    "state": {},
    "version_major": 2,
    "version_minor": 0
   }
  }
 },
 "nbformat": 4,
 "nbformat_minor": 5
}
