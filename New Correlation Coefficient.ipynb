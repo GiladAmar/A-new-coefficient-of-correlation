{
 "cells": [
  {
   "cell_type": "markdown",
   "id": "37088d90-a606-4ed6-a934-86d9dd97928f",
   "metadata": {},
   "source": [
    "# Python implementation of https://arxiv.org/pdf/1909.10140.pdf"
   ]
  },
  {
   "cell_type": "code",
   "execution_count": 5,
   "id": "c5f69b59-6d64-4221-9a1d-f44af50713c5",
   "metadata": {},
   "outputs": [],
   "source": [
    "from itertools import product\n",
    "from joblib import Parallel, delayed\n",
    "import sys\n",
    "\n",
    "import numpy as np\n",
    "from scipy.stats import rankdata\n",
    "import pandas as pd"
   ]
  },
  {
   "cell_type": "code",
   "execution_count": 6,
   "id": "518a3340-e9de-4ba8-b353-13000a33c087",
   "metadata": {},
   "outputs": [],
   "source": [
    "def XI_coef(xvec, yvec, simple=True, seed=42):\n",
    "    np.random.seed(seed)\n",
    "\n",
    "    n = len(xvec)\n",
    "\n",
    "    # TODO: Fix this clearly inefficient way of computing the r code line:\n",
    "    # PI <- rank(xvec, ties.method = \"random\"\n",
    "    # This is a shameless stackoverflow copy\n",
    "    pandas_series = pd.Series(xvec)\n",
    "    PI = pandas_series.sample(frac=1).rank(method='first').reindex_like(pandas_series).values\n",
    "\n",
    "    fr = rankdata(yvec, method='max') / n\n",
    "    gr = rankdata(-yvec, method='max') / n\n",
    "\n",
    "    ord = np.argsort(PI)\n",
    "    fr = fr[ord]\n",
    "    A1 = np.sum(np.abs(fr[1:n - 1] - fr[2:n])) / (2.0 * n)\n",
    "    CU = np.mean(gr * (1.0 - gr))\n",
    "\n",
    "    xi = 1.0 - A1 / (CU + sys.float_info.epsilon)\n",
    "    if simple:\n",
    "        return xi\n",
    "\n",
    "    return [xi, fr, CU]\n",
    "\n",
    "\n",
    "def XI_coef_matrix(np_array):\n",
    "    assert len(np_array.shape) == 2\n",
    "    _, w = np_array.shape\n",
    "\n",
    "    return np.array([XI_coef(np_array[:, i], np_array[:, j])\n",
    "                     for i, j in product(range(w), repeat=2)]).reshape((w, w))"
   ]
  },
  {
   "cell_type": "code",
   "execution_count": 13,
   "id": "6d49104a-4f66-4f64-b968-e4f0fbc414f6",
   "metadata": {},
   "outputs": [],
   "source": [
    "def XI_coef_matrix_parallel(np_array):\n",
    "    assert len(np_array.shape) == 2\n",
    "    _, w = np_array.shape\n",
    "\n",
    "    def process_index(i, j):\n",
    "        return XI_coef(np_array[:, i], np_array[:, j])\n",
    "\n",
    "    results = Parallel(n_jobs=-1)(delayed(process_index)(i, j)\n",
    "                                  for i, j in product(range(w), repeat=2))\n",
    "    return np.array(results).reshape((w, w))"
   ]
  },
  {
   "cell_type": "code",
   "execution_count": 9,
   "id": "356a99a5-3584-4dcc-99c3-c0c36528e3cf",
   "metadata": {},
   "outputs": [],
   "source": [
    "# A reasonably sized dataframe for Data Science cases\n",
    "np_array = np.random.randint(0, 100, size=(int(1e4), 70))"
   ]
  },
  {
   "cell_type": "code",
   "execution_count": 11,
   "id": "fc18937c-4348-45b3-b938-f1721a0f74d1",
   "metadata": {},
   "outputs": [
    {
     "name": "stdout",
     "output_type": "stream",
     "text": [
      "CPU times: user 13.4 s, sys: 0 ns, total: 13.4 s\n",
      "Wall time: 13.4 s\n"
     ]
    }
   ],
   "source": [
    "%time _ = XI_coef_matrix(np_array)"
   ]
  },
  {
   "cell_type": "code",
   "execution_count": 14,
   "id": "b8a7fa46-6fbd-44f1-a486-74ff0e3f2d1f",
   "metadata": {},
   "outputs": [
    {
     "name": "stdout",
     "output_type": "stream",
     "text": [
      "CPU times: user 1.18 s, sys: 399 ms, total: 1.58 s\n",
      "Wall time: 3.29 s\n"
     ]
    }
   ],
   "source": [
    "%time _ = XI_coef_matrix_parallel(np_array)"
   ]
  },
  {
   "cell_type": "code",
   "execution_count": 15,
   "id": "bc54dcf7-e138-4def-8345-df66e38554ca",
   "metadata": {},
   "outputs": [
    {
     "name": "stdout",
     "output_type": "stream",
     "text": [
      "x -> y 0.9998990193219999\n",
      "y -> x 0.9998990433999999\n",
      "std coeff matrix [[ 1. -1.]\n",
      " [-1.  1.]]\n"
     ]
    }
   ],
   "source": [
    "# TEST: a straight line with noise\n",
    "size = int(1e6)\n",
    "list_1 = np.array(list(range(0, size)))\n",
    "list_2 = np.array(list(range(size, 0, -1))) + np.random.random_sample(len(list_1)) * 100\n",
    "\n",
    "print(\"x -> y\", XI_coef(list_1, list_2))\n",
    "print(\"y -> x\", XI_coef(list_2, list_1))\n",
    "print(\"std coeff matrix\", np.corrcoef(list_1, list_2))"
   ]
  },
  {
   "cell_type": "code",
   "execution_count": 18,
   "id": "0718fc17-3ab1-478a-bb41-971a2b96ede9",
   "metadata": {},
   "outputs": [
    {
     "name": "stdout",
     "output_type": "stream",
     "text": [
      "XI coeff matrix [[1. 1. 1. 1. 1. 1. 1. 1. 1. 1.]\n",
      " [1. 1. 1. 1. 1. 1. 1. 1. 1. 1.]\n",
      " [1. 1. 1. 1. 1. 1. 1. 1. 1. 1.]\n",
      " [1. 1. 1. 1. 1. 1. 1. 1. 1. 1.]\n",
      " [1. 1. 1. 1. 1. 1. 1. 1. 1. 1.]\n",
      " [1. 1. 1. 1. 1. 1. 1. 1. 1. 1.]\n",
      " [1. 1. 1. 1. 1. 1. 1. 1. 1. 1.]\n",
      " [1. 1. 1. 1. 1. 1. 1. 1. 1. 1.]\n",
      " [1. 1. 1. 1. 1. 1. 1. 1. 1. 1.]\n",
      " [1. 1. 1. 1. 1. 1. 1. 1. 1. 1.]]\n",
      "XI coeff matrix [[1. 1. 1. 1. 1. 1. 1. 1. 1. 1.]\n",
      " [1. 1. 1. 1. 1. 1. 1. 1. 1. 1.]\n",
      " [1. 1. 1. 1. 1. 1. 1. 1. 1. 1.]\n",
      " [1. 1. 1. 1. 1. 1. 1. 1. 1. 1.]\n",
      " [1. 1. 1. 1. 1. 1. 1. 1. 1. 1.]\n",
      " [1. 1. 1. 1. 1. 1. 1. 1. 1. 1.]\n",
      " [1. 1. 1. 1. 1. 1. 1. 1. 1. 1.]\n",
      " [1. 1. 1. 1. 1. 1. 1. 1. 1. 1.]\n",
      " [1. 1. 1. 1. 1. 1. 1. 1. 1. 1.]\n",
      " [1. 1. 1. 1. 1. 1. 1. 1. 1. 1.]]\n",
      "XI coeff matrix [[0.99704564 0.99701953]\n",
      " [0.99704564 0.99701953]]\n"
     ]
    }
   ],
   "source": [
    "# Odd cases:\n",
    "np_array = np.zeros(shape=(10, 10))\n",
    "print(\"XI coeff matrix\", XI_coef_matrix(np_array))\n",
    "\n",
    "np_array = np.random.randint(0, 100, (1, 10))\n",
    "print(\"XI coeff matrix\", XI_coef_matrix(np_array))\n",
    "\n",
    "np_array = np.random.randint(0, 100, (1000, 2))\n",
    "np_array[:, 1] = -np_array[:, 0]\n",
    "print(\"XI coeff matrix\", XI_coef_matrix(np_array))"
   ]
  },
  {
   "cell_type": "code",
   "execution_count": 19,
   "id": "7577060c-8514-4eb0-b76a-e5d805ca3b6d",
   "metadata": {},
   "outputs": [
    {
     "name": "stdout",
     "output_type": "stream",
     "text": [
      "x -> y 0.999997000006\n",
      "std coeff matrix [[1. 1.]\n",
      " [1. 1.]]\n"
     ]
    }
   ],
   "source": [
    "# TEST: a straight line with itself\n",
    "size = int(1e6)\n",
    "list_1 = np.array(list(range(0, size)))\n",
    "\n",
    "print(\"x -> y\", XI_coef(list_1, list_1))\n",
    "print(\"std coeff matrix\", np.corrcoef(list_1, list_1))"
   ]
  },
  {
   "cell_type": "code",
   "execution_count": 20,
   "id": "4ddf31cf-3594-441d-be18-fc90f064e38c",
   "metadata": {},
   "outputs": [
    {
     "name": "stdout",
     "output_type": "stream",
     "text": [
      "x -> y 0.6504869275040979\n",
      "y -> x -0.017841882054651315\n",
      "std coeff matrix [[ 1.         -0.00328516]\n",
      " [-0.00328516  1.        ]]\n"
     ]
    }
   ],
   "source": [
    "# TEST: a sin(x) function\n",
    "# The std correlation cooeff is close to 0, but this should hopefully some that\n",
    "# there is a relationship from x -> y, but a bad one from y -> x\n",
    "list_1 = np.arange(0, 1000, np.pi/8)\n",
    "list_2 = np.sin(list_1) + np.random.random_sample(len(list_1))/10\n",
    "\n",
    "print(\"x -> y\", XI_coef(list_1, list_2))\n",
    "print(\"y -> x\", XI_coef(list_2, list_1))\n",
    "print(\"std coeff matrix\", np.corrcoef(list_1, list_2))"
   ]
  }
 ],
 "metadata": {
  "kernelspec": {
   "display_name": "Python 3",
   "language": "python",
   "name": "python3"
  },
  "language_info": {
   "codemirror_mode": {
    "name": "ipython",
    "version": 3
   },
   "file_extension": ".py",
   "mimetype": "text/x-python",
   "name": "python",
   "nbconvert_exporter": "python",
   "pygments_lexer": "ipython3",
   "version": "3.8.10"
  }
 },
 "nbformat": 4,
 "nbformat_minor": 5
}
