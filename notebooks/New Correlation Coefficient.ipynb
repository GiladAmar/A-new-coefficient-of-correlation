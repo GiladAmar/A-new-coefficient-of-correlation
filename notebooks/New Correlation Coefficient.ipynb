{
 "cells": [
  {
   "cell_type": "markdown",
   "id": "37088d90-a606-4ed6-a934-86d9dd97928f",
   "metadata": {
    "pycharm": {
     "name": "#%% md\n"
    }
   },
   "source": [
    "# Python implementation of https://arxiv.org/pdf/1909.10140.pdf"
   ]
  },
  {
   "cell_type": "code",
   "execution_count": 10,
   "id": "c5f69b59-6d64-4221-9a1d-f44af50713c5",
   "metadata": {
    "pycharm": {
     "name": "#%%\n"
    }
   },
   "outputs": [
    {
     "name": "stdout",
     "output_type": "stream",
     "text": [
      "The line_profiler extension is already loaded. To reload it, use:\n",
      "  %reload_ext line_profiler\n"
     ]
    }
   ],
   "source": [
    "import numpy as np\n",
    "from coef import XI_coef, XI_coef_matrix, XI_coef_matrix_parallel, x_ordered_rank, XI_numba, XI_numba_matrix\n",
    "%load_ext line_profiler"
   ]
  },
  {
   "cell_type": "code",
   "execution_count": 14,
   "id": "356a99a5-3584-4dcc-99c3-c0c36528e3cf",
   "metadata": {
    "pycharm": {
     "name": "#%%\n"
    }
   },
   "outputs": [],
   "source": [
    "# A reasonably sized dataframe for Data Science cases\n",
    "np_array = np.random.randint(0, 100, size=(int(1e4), 70))"
   ]
  },
  {
   "cell_type": "markdown",
   "source": [
    "# Timing"
   ],
   "metadata": {
    "collapsed": false,
    "pycharm": {
     "name": "#%% md\n"
    }
   }
  },
  {
   "cell_type": "code",
   "execution_count": 15,
   "outputs": [
    {
     "name": "stdout",
     "output_type": "stream",
     "text": [
      "CPU times: user 1.78 s, sys: 1.55 s, total: 3.34 s\n",
      "Wall time: 603 ms\n"
     ]
    }
   ],
   "source": [
    "%time _ = np.corrcoef(np_array)"
   ],
   "metadata": {
    "collapsed": false,
    "pycharm": {
     "name": "#%%\n"
    }
   }
  },
  {
   "cell_type": "code",
   "execution_count": 16,
   "id": "fc18937c-4348-45b3-b938-f1721a0f74d1",
   "metadata": {
    "pycharm": {
     "name": "#%%\n"
    }
   },
   "outputs": [
    {
     "name": "stdout",
     "output_type": "stream",
     "text": [
      "CPU times: user 46.4 s, sys: 0 ns, total: 46.4 s\n",
      "Wall time: 47.6 s\n"
     ]
    }
   ],
   "source": [
    "%time _ = XI_coef_matrix(np_array)"
   ]
  },
  {
   "cell_type": "code",
   "execution_count": 17,
   "id": "b8a7fa46-6fbd-44f1-a486-74ff0e3f2d1f",
   "metadata": {
    "pycharm": {
     "name": "#%%\n"
    }
   },
   "outputs": [
    {
     "name": "stdout",
     "output_type": "stream",
     "text": [
      "CPU times: user 1.27 s, sys: 144 ms, total: 1.42 s\n",
      "Wall time: 10 s\n"
     ]
    }
   ],
   "source": [
    "%time _ = XI_coef_matrix_parallel(np_array)\n",
    "# On the order of 10x longer than the 'normal' numpy correlation function (on my particular system)"
   ]
  },
  {
   "cell_type": "code",
   "execution_count": 20,
   "outputs": [
    {
     "name": "stdout",
     "output_type": "stream",
     "text": [
      "CPU times: user 776 ms, sys: 41.3 ms, total: 817 ms\n",
      "Wall time: 1.5 s\n"
     ]
    }
   ],
   "source": [
    "%time _ = XI_numba_matrix(np_array)"
   ],
   "metadata": {
    "collapsed": false,
    "pycharm": {
     "name": "#%%\n"
    }
   }
  },
  {
   "cell_type": "markdown",
   "source": [
    "Even the numpy version can take some time on larger datasets, this new measure unfortunately(even when run in parallel) takes 10 times longer.\n",
    "If you hate yourself, or actually know what you're doing, a GPU-compute version of this would be awesome."
   ],
   "metadata": {
    "collapsed": false,
    "pycharm": {
     "name": "#%% md\n"
    }
   }
  },
  {
   "cell_type": "markdown",
   "source": [
    "# Explore Different Cases"
   ],
   "metadata": {
    "collapsed": false,
    "pycharm": {
     "name": "#%% md\n"
    }
   }
  },
  {
   "cell_type": "markdown",
   "source": [
    "## Straight line (with noise)"
   ],
   "metadata": {
    "collapsed": false,
    "pycharm": {
     "name": "#%% md\n"
    }
   }
  },
  {
   "cell_type": "code",
   "execution_count": 8,
   "id": "bc54dcf7-e138-4def-8345-df66e38554ca",
   "metadata": {
    "pycharm": {
     "name": "#%%\n"
    }
   },
   "outputs": [
    {
     "name": "stdout",
     "output_type": "stream",
     "text": [
      "x->y: 0.9997985700429998\n",
      "y->x: 0.9997989721239998\n",
      "std coeff value: -0.999999979962234\n"
     ]
    }
   ],
   "source": [
    "size = int(1e6)\n",
    "list_1 = np.arange(0, size)\n",
    "list_2 = 0.5 * np.arange(size, 0, -1) + np.random.random_sample(size) * 100\n",
    "\n",
    "print(\"x->y:\", XI_coef(list_1, list_2))\n",
    "print(\"y->x:\", XI_coef(list_2, list_1))\n",
    "print(\"std coeff value:\", np.corrcoef(list_1, list_2)[0,-1])"
   ]
  },
  {
   "cell_type": "markdown",
   "source": [
    "Okay, they both produce approximately 1 indicating that if you know x, then you (almost) know the y-value.\n",
    "It is worth noting that the std correlation coefficient goes from -1 to 1, and the new measure ONLY from 0 to 1."
   ],
   "metadata": {
    "collapsed": false,
    "pycharm": {
     "name": "#%% md\n"
    }
   }
  },
  {
   "cell_type": "markdown",
   "source": [
    "## Lets see the new method with some strange cases to see if it behaves well"
   ],
   "metadata": {
    "collapsed": false,
    "pycharm": {
     "name": "#%% md\n"
    }
   }
  },
  {
   "cell_type": "markdown",
   "source": [
    "### All Zeros"
   ],
   "metadata": {
    "collapsed": false,
    "pycharm": {
     "name": "#%% md\n"
    }
   }
  },
  {
   "cell_type": "code",
   "execution_count": 9,
   "outputs": [
    {
     "name": "stdout",
     "output_type": "stream",
     "text": [
      "XI coeff matrix\n",
      " [[1. 1. 1.]\n",
      " [1. 1. 1.]\n",
      " [1. 1. 1.]]\n"
     ]
    }
   ],
   "source": [
    "np_array = np.zeros(shape=(10, 3))\n",
    "print(\"XI coeff matrix\\n\", XI_coef_matrix(np_array))"
   ],
   "metadata": {
    "collapsed": false,
    "pycharm": {
     "name": "#%%\n"
    }
   }
  },
  {
   "cell_type": "markdown",
   "source": [
    "### Single value in each column"
   ],
   "metadata": {
    "collapsed": false,
    "pycharm": {
     "name": "#%% md\n"
    }
   }
  },
  {
   "cell_type": "code",
   "execution_count": 10,
   "id": "0718fc17-3ab1-478a-bb41-971a2b96ede9",
   "metadata": {
    "pycharm": {
     "name": "#%%\n"
    }
   },
   "outputs": [
    {
     "name": "stdout",
     "output_type": "stream",
     "text": [
      "XI coeff matrix\n",
      " [[1. 1. 1.]\n",
      " [1. 1. 1.]\n",
      " [1. 1. 1.]]\n"
     ]
    }
   ],
   "source": [
    "np_array = np.random.randint(0, 100, (1, 3))\n",
    "print(\"XI coeff matrix\\n\", XI_coef_matrix(np_array))"
   ]
  },
  {
   "cell_type": "markdown",
   "source": [
    "### 1 column is proportional to the inverse of the other"
   ],
   "metadata": {
    "collapsed": false,
    "pycharm": {
     "name": "#%% md\n"
    }
   }
  },
  {
   "cell_type": "code",
   "execution_count": 11,
   "outputs": [
    {
     "name": "stdout",
     "output_type": "stream",
     "text": [
      "XI coeff matrix\n",
      " [[0.99704576 0.99703747]\n",
      " [0.99704576 0.99703747]]\n"
     ]
    }
   ],
   "source": [
    "np_array = np.random.randint(0, 100, (1000, 2))\n",
    "np_array[:, 1] = -2 * np_array[:, 0]\n",
    "print(\"XI coeff matrix\\n\", XI_coef_matrix(np_array))"
   ],
   "metadata": {
    "collapsed": false,
    "pycharm": {
     "name": "#%%\n"
    }
   }
  },
  {
   "cell_type": "markdown",
   "source": [
    "In the pathological cases above nothing explodes, good."
   ],
   "metadata": {
    "collapsed": false,
    "pycharm": {
     "name": "#%% md\n"
    }
   }
  },
  {
   "cell_type": "markdown",
   "source": [
    "## Explore benefits of this measure"
   ],
   "metadata": {
    "collapsed": false,
    "pycharm": {
     "name": "#%% md\n"
    }
   }
  },
  {
   "cell_type": "markdown",
   "source": [
    "### A sin(x) function"
   ],
   "metadata": {
    "collapsed": false,
    "pycharm": {
     "name": "#%% md\n"
    }
   }
  },
  {
   "cell_type": "markdown",
   "source": [
    "The new method should hopefully show that there is a relationship from x -> y, but a bad one from y -> x\n",
    "The standard coefficient on the other hand is close to 0 suggesting that there is no relationship at all between them."
   ],
   "metadata": {
    "collapsed": false,
    "pycharm": {
     "name": "#%% md\n"
    }
   }
  },
  {
   "cell_type": "code",
   "execution_count": 12,
   "id": "4ddf31cf-3594-441d-be18-fc90f064e38c",
   "metadata": {
    "pycharm": {
     "name": "#%%\n"
    }
   },
   "outputs": [
    {
     "name": "stdout",
     "output_type": "stream",
     "text": [
      "x -> y:  0.65092995322487\n",
      "y -> x:  -0.006187253437841322\n",
      "std coeff:  -0.003368490513119983\n"
     ]
    }
   ],
   "source": [
    "list_1 = np.arange(0, 1000, np.pi/8)\n",
    "list_2 = np.sin(list_1) + np.random.random_sample(len(list_1))/10\n",
    "\n",
    "print(\"x -> y: \", XI_coef(list_1, list_2))\n",
    "print(\"y -> x: \", XI_coef(list_2, list_1))\n",
    "print(\"std coeff: \", np.corrcoef(list_1, list_2)[0,-1])"
   ]
  },
  {
   "cell_type": "markdown",
   "source": [
    "Well that's nice. If you're using correlation as a means to determine which columns should/n't be dropped then the new method gives you more useful information to say that actually the x feature would be great to keep.\n",
    "Alternatively, the standard correlation measure would suggest that the x column is useless and perhaps should be dropped in favour of keeping other columns (assuming there were any)."
   ],
   "metadata": {
    "collapsed": false,
    "pycharm": {
     "name": "#%% md\n"
    }
   }
  },
  {
   "cell_type": "markdown",
   "source": [
    "### Semi-circular Data"
   ],
   "metadata": {
    "collapsed": false,
    "pycharm": {
     "name": "#%% md\n"
    }
   }
  },
  {
   "cell_type": "code",
   "execution_count": 13,
   "outputs": [],
   "source": [
    "radians = np.arange(0, np.pi, 2 * np.pi/1000)\n",
    "list_1 = np.sin(radians) + np.random.random_sample(len(radians))/10\n",
    "list_2 = np.cos(radians) + np.random.random_sample(len(radians))/10"
   ],
   "metadata": {
    "collapsed": false,
    "pycharm": {
     "name": "#%%\n"
    }
   }
  },
  {
   "cell_type": "code",
   "execution_count": 14,
   "outputs": [
    {
     "data": {
      "text/plain": "<matplotlib.collections.PathCollection at 0x7f7947626820>"
     },
     "execution_count": 14,
     "metadata": {},
     "output_type": "execute_result"
    },
    {
     "data": {
      "text/plain": "<Figure size 288x288 with 1 Axes>",
      "image/png": "[encoded data removed]"
     },
     "metadata": {
      "needs_background": "light"
     },
     "output_type": "display_data"
    }
   ],
   "source": [
    "import matplotlib.pyplot as plt\n",
    "plt.figure(figsize=(4,4))\n",
    "plt.scatter(list_1, list_2, s=0.1)"
   ],
   "metadata": {
    "collapsed": false,
    "pycharm": {
     "name": "#%%\n"
    }
   }
  },
  {
   "cell_type": "code",
   "execution_count": 15,
   "outputs": [
    {
     "name": "stdout",
     "output_type": "stream",
     "text": [
      "x -> y:  0.1860727442909783\n",
      "y -> x:  0.8023472093888379\n",
      "std coeff:  -0.010020034541798208\n"
     ]
    }
   ],
   "source": [
    "print(\"x -> y: \", XI_coef(list_1, list_2))\n",
    "print(\"y -> x: \", XI_coef(list_2, list_1))\n",
    "print(\"std coeff: \", np.corrcoef(list_1, list_2)[0,-1])"
   ],
   "metadata": {
    "collapsed": false,
    "pycharm": {
     "name": "#%%\n"
    }
   }
  },
  {
   "cell_type": "markdown",
   "source": [
    "Again, the standard correlation coefficient suggests no relationship between the two columns, whereas this new method says that if you know y, you have a great understanding of what the x value is. However, while knowledge of x does provide some information, it is ambiguous as to exactly which value y will be."
   ],
   "metadata": {
    "collapsed": false,
    "pycharm": {
     "name": "#%% md\n"
    }
   }
  },
  {
   "cell_type": "markdown",
   "source": [
    "## Let's try a full circle this time"
   ],
   "metadata": {
    "collapsed": false,
    "pycharm": {
     "name": "#%% md\n"
    }
   }
  },
  {
   "cell_type": "code",
   "execution_count": 16,
   "outputs": [
    {
     "name": "stdout",
     "output_type": "stream",
     "text": [
      "x -> y:  0.19728319728319843\n",
      "y -> x:  0.22029022029022127\n",
      "std coeff:  -0.0032914408465579007\n"
     ]
    }
   ],
   "source": [
    "radians = np.arange(0, 2*np.pi, 2 * np.pi/1000)\n",
    "list_1 = np.sin(radians) + np.random.random_sample(len(radians))/10\n",
    "list_2 = np.cos(radians) + np.random.random_sample(len(radians))/10\n",
    "print(\"x -> y: \", XI_coef(list_1, list_2))\n",
    "print(\"y -> x: \", XI_coef(list_2, list_1))\n",
    "print(\"std coeff: \", np.corrcoef(list_1, list_2)[0,-1])"
   ],
   "metadata": {
    "collapsed": false,
    "pycharm": {
     "name": "#%%\n"
    }
   }
  },
  {
   "cell_type": "markdown",
   "source": [
    "Okay, now the ambiguity runs both ways from y to x and x to y."
   ],
   "metadata": {
    "collapsed": false,
    "pycharm": {
     "name": "#%% md\n"
    }
   }
  },
  {
   "cell_type": "code",
   "execution_count": 63,
   "id": "de49ab88",
   "metadata": {
    "pycharm": {
     "name": "#%%\n"
    }
   },
   "outputs": [],
   "source": [
    "#If you wish to see where the time is being spent on computing this coefficient\n",
    "%lprun -f XI_coef_matrix XI_coef_matrix(np_array)"
   ]
  },
  {
   "cell_type": "code",
   "execution_count": 4,
   "outputs": [],
   "source": [
    "# A reasonably sized dataframe for Data Science cases\n",
    "np_array = np.random.randint(0, 100, size=(int(1e6), 2))"
   ],
   "metadata": {
    "collapsed": false,
    "pycharm": {
     "name": "#%%\n"
    }
   }
  },
  {
   "cell_type": "code",
   "execution_count": 5,
   "outputs": [],
   "source": [
    "#Compile the numba version\n",
    "_ = XI_numba(np_array[0:10,-1], np_array[0:10,-1])"
   ],
   "metadata": {
    "collapsed": false,
    "pycharm": {
     "name": "#%%\n"
    }
   }
  },
  {
   "cell_type": "code",
   "execution_count": 6,
   "outputs": [
    {
     "name": "stdout",
     "output_type": "stream",
     "text": [
      "CPU times: user 1.91 s, sys: 62.4 ms, total: 1.97 s\n",
      "Wall time: 1.97 s\n"
     ]
    }
   ],
   "source": [
    "%time _ = XI_coef(np_array[:,0], np_array[:,1])"
   ],
   "metadata": {
    "collapsed": false,
    "pycharm": {
     "name": "#%%\n"
    }
   }
  },
  {
   "cell_type": "code",
   "execution_count": 7,
   "outputs": [
    {
     "name": "stdout",
     "output_type": "stream",
     "text": [
      "CPU times: user 259 ms, sys: 7.52 ms, total: 266 ms\n",
      "Wall time: 265 ms\n"
     ]
    }
   ],
   "source": [
    "%time _ = XI_numba(np_array[:,0], np_array[:,1])"
   ],
   "metadata": {
    "collapsed": false,
    "pycharm": {
     "name": "#%%\n"
    }
   }
  },
  {
   "cell_type": "code",
   "execution_count": 8,
   "outputs": [
    {
     "name": "stdout",
     "output_type": "stream",
     "text": [
      "CPU times: user 16.5 ms, sys: 12.2 ms, total: 28.7 ms\n",
      "Wall time: 24.1 ms\n"
     ]
    }
   ],
   "source": [
    "%time _ = np.corrcoef(np_array[:,0],np_array[:,1])"
   ],
   "metadata": {
    "collapsed": false,
    "pycharm": {
     "name": "#%%\n"
    }
   }
  }
 ],
 "metadata": {
  "kernelspec": {
   "display_name": "Python 3 (ipykernel)",
   "language": "python",
   "name": "python3"
  },
  "language_info": {
   "codemirror_mode": {
    "name": "ipython",
    "version": 3
   },
   "file_extension": ".py",
   "mimetype": "text/x-python",
   "name": "python",
   "nbconvert_exporter": "python",
   "pygments_lexer": "ipython3",
   "version": "3.8.10"
  }
 },
 "nbformat": 4,
 "nbformat_minor": 5
}